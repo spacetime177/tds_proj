{
 "cells": [
  {
   "cell_type": "code",
   "execution_count": 1,
   "metadata": {},
   "outputs": [],
   "source": [
    "import pandas as pd\n",
    "import numpy as np\n",
    "import matplotlib.pyplot as plt"
   ]
  },
  {
   "cell_type": "code",
   "execution_count": 3,
   "metadata": {},
   "outputs": [],
   "source": [
    "import pandas as pd\n",
    "\n",
    "# Load the CSV into a DataFrame\n",
    "df = pd.read_csv('E:\\\\tds proj\\\\users.csv')\n",
    "\n",
    "# Convert TRUE/FALSE to 'true'/'false' strings in the 'hireable' column\n",
    "df['hireable'] = df['hireable'].replace({True: 'true', False: 'false'})\n",
    "\n",
    "# Save the modified DataFrame to a new CSV file\n",
    "df.to_csv('E:\\\\tds proj\\\\users.csv', index=False)\n"
   ]
  },
  {
   "cell_type": "markdown",
   "metadata": {},
   "source": [
    "Q1)Who are the top 5 users in Dublin with the highest number"
   ]
  },
  {
   "cell_type": "code",
   "execution_count": 2,
   "metadata": {},
   "outputs": [
    {
     "data": {
      "text/html": [
       "<div>\n",
       "<style scoped>\n",
       "    .dataframe tbody tr th:only-of-type {\n",
       "        vertical-align: middle;\n",
       "    }\n",
       "\n",
       "    .dataframe tbody tr th {\n",
       "        vertical-align: top;\n",
       "    }\n",
       "\n",
       "    .dataframe thead th {\n",
       "        text-align: right;\n",
       "    }\n",
       "</style>\n",
       "<table border=\"1\" class=\"dataframe\">\n",
       "  <thead>\n",
       "    <tr style=\"text-align: right;\">\n",
       "      <th></th>\n",
       "      <th>login</th>\n",
       "      <th>name</th>\n",
       "      <th>company</th>\n",
       "      <th>location</th>\n",
       "      <th>email</th>\n",
       "      <th>hireable</th>\n",
       "      <th>bio</th>\n",
       "      <th>public_repos</th>\n",
       "      <th>followers</th>\n",
       "      <th>following</th>\n",
       "      <th>created_at</th>\n",
       "    </tr>\n",
       "  </thead>\n",
       "  <tbody>\n",
       "    <tr>\n",
       "      <th>0</th>\n",
       "      <td>orta</td>\n",
       "      <td>Orta Therox</td>\n",
       "      <td>NaN</td>\n",
       "      <td>Huddersfield / NYC / Dublin / Rio de Janeiro</td>\n",
       "      <td>git@orta.io</td>\n",
       "      <td>NaN</td>\n",
       "      <td>Tech on @puzzmo-com \\r\\n\\r\\nEx-TypeScript. Con...</td>\n",
       "      <td>952</td>\n",
       "      <td>6017</td>\n",
       "      <td>109</td>\n",
       "      <td>2009-01-24T20:40:31Z</td>\n",
       "    </tr>\n",
       "    <tr>\n",
       "      <th>1</th>\n",
       "      <td>jeromeetienne</td>\n",
       "      <td>Jerome Etienne</td>\n",
       "      <td>MAKING WEBAR A REALITY</td>\n",
       "      <td>Dublin, Ireland</td>\n",
       "      <td>jerome.etienne@gmail.com</td>\n",
       "      <td>True</td>\n",
       "      <td>Making WebAR a reality - Around Javascript and...</td>\n",
       "      <td>301</td>\n",
       "      <td>2781</td>\n",
       "      <td>15</td>\n",
       "      <td>2010-04-26T11:58:29Z</td>\n",
       "    </tr>\n",
       "    <tr>\n",
       "      <th>2</th>\n",
       "      <td>jonataslaw</td>\n",
       "      <td>Jonny Borges</td>\n",
       "      <td>IRIS</td>\n",
       "      <td>Dublin, Ireland</td>\n",
       "      <td>NaN</td>\n",
       "      <td>True</td>\n",
       "      <td>VP of Engineering from Iris Finance.\\r\\nDevelo...</td>\n",
       "      <td>272</td>\n",
       "      <td>2692</td>\n",
       "      <td>17</td>\n",
       "      <td>2018-01-23T19:17:15Z</td>\n",
       "    </tr>\n",
       "    <tr>\n",
       "      <th>3</th>\n",
       "      <td>steventroughtonsmith</td>\n",
       "      <td>Steven Troughton-Smith</td>\n",
       "      <td>HIGH CAFFEINE CONTENT</td>\n",
       "      <td>Dublin, Ireland</td>\n",
       "      <td>NaN</td>\n",
       "      <td>NaN</td>\n",
       "      <td>NaN</td>\n",
       "      <td>98</td>\n",
       "      <td>1984</td>\n",
       "      <td>4</td>\n",
       "      <td>2009-01-08T23:51:31Z</td>\n",
       "    </tr>\n",
       "    <tr>\n",
       "      <th>4</th>\n",
       "      <td>axic</td>\n",
       "      <td>Alex Beregszaszi</td>\n",
       "      <td>ETHEREUM @IPSILON @SPEARBIT @ETHEREUMJS</td>\n",
       "      <td>Dublin, Ireland</td>\n",
       "      <td>NaN</td>\n",
       "      <td>True</td>\n",
       "      <td>Works on decentralised stuff.\\r\\n\\r\\neipnft:ax...</td>\n",
       "      <td>143</td>\n",
       "      <td>1807</td>\n",
       "      <td>5</td>\n",
       "      <td>2008-08-11T23:38:10Z</td>\n",
       "    </tr>\n",
       "  </tbody>\n",
       "</table>\n",
       "</div>"
      ],
      "text/plain": [
       "                  login                    name  \\\n",
       "0                  orta             Orta Therox   \n",
       "1         jeromeetienne          Jerome Etienne   \n",
       "2            jonataslaw            Jonny Borges   \n",
       "3  steventroughtonsmith  Steven Troughton-Smith   \n",
       "4                  axic        Alex Beregszaszi   \n",
       "\n",
       "                                   company  \\\n",
       "0                                      NaN   \n",
       "1                   MAKING WEBAR A REALITY   \n",
       "2                                     IRIS   \n",
       "3                    HIGH CAFFEINE CONTENT   \n",
       "4  ETHEREUM @IPSILON @SPEARBIT @ETHEREUMJS   \n",
       "\n",
       "                                       location                     email  \\\n",
       "0  Huddersfield / NYC / Dublin / Rio de Janeiro               git@orta.io   \n",
       "1                               Dublin, Ireland  jerome.etienne@gmail.com   \n",
       "2                               Dublin, Ireland                       NaN   \n",
       "3                               Dublin, Ireland                       NaN   \n",
       "4                               Dublin, Ireland                       NaN   \n",
       "\n",
       "  hireable                                                bio  public_repos  \\\n",
       "0      NaN  Tech on @puzzmo-com \\r\\n\\r\\nEx-TypeScript. Con...           952   \n",
       "1     True  Making WebAR a reality - Around Javascript and...           301   \n",
       "2     True  VP of Engineering from Iris Finance.\\r\\nDevelo...           272   \n",
       "3      NaN                                                NaN            98   \n",
       "4     True  Works on decentralised stuff.\\r\\n\\r\\neipnft:ax...           143   \n",
       "\n",
       "   followers  following            created_at  \n",
       "0       6017        109  2009-01-24T20:40:31Z  \n",
       "1       2781         15  2010-04-26T11:58:29Z  \n",
       "2       2692         17  2018-01-23T19:17:15Z  \n",
       "3       1984          4  2009-01-08T23:51:31Z  \n",
       "4       1807          5  2008-08-11T23:38:10Z  "
      ]
     },
     "execution_count": 2,
     "metadata": {},
     "output_type": "execute_result"
    }
   ],
   "source": [
    "users = pd.read_csv('users.csv')\n",
    "users.head()"
   ]
  },
  {
   "cell_type": "code",
   "execution_count": 3,
   "metadata": {},
   "outputs": [],
   "source": [
    "users['hireable'] = users['hireable'].fillna(False).astype(bool)"
   ]
  },
  {
   "cell_type": "code",
   "execution_count": 4,
   "metadata": {},
   "outputs": [
    {
     "name": "stdout",
     "output_type": "stream",
     "text": [
      "orta,jeromeetienne,jonataslaw,steventroughtonsmith,axic\n"
     ]
    }
   ],
   "source": [
    "top5 = users.sort_values(by='followers', ascending=False).head()\n",
    "print(','.join(top5['login'].tolist()))"
   ]
  },
  {
   "cell_type": "markdown",
   "metadata": {},
   "source": [
    "Q2)Who are the 5 earliest registered GitHub users in Dublin?"
   ]
  },
  {
   "cell_type": "code",
   "execution_count": 5,
   "metadata": {},
   "outputs": [
    {
     "name": "stdout",
     "output_type": "stream",
     "text": [
      "paulca,adrian,GavinJoyce,amir,ciaranlee\n"
     ]
    }
   ],
   "source": [
    "users['created_at'] = pd.to_datetime(users['created_at'])\n",
    "top_earliest = users.sort_values(by='created_at').head()\n",
    "print(','.join(top_earliest['login'].tolist()))"
   ]
  },
  {
   "cell_type": "markdown",
   "metadata": {},
   "source": [
    "Q3. What are the 3 most popular license among these users? Ignore missing licenses. List the license_name in order, comma-separated."
   ]
  },
  {
   "cell_type": "code",
   "execution_count": 6,
   "metadata": {},
   "outputs": [
    {
     "data": {
      "text/html": [
       "<div>\n",
       "<style scoped>\n",
       "    .dataframe tbody tr th:only-of-type {\n",
       "        vertical-align: middle;\n",
       "    }\n",
       "\n",
       "    .dataframe tbody tr th {\n",
       "        vertical-align: top;\n",
       "    }\n",
       "\n",
       "    .dataframe thead th {\n",
       "        text-align: right;\n",
       "    }\n",
       "</style>\n",
       "<table border=\"1\" class=\"dataframe\">\n",
       "  <thead>\n",
       "    <tr style=\"text-align: right;\">\n",
       "      <th></th>\n",
       "      <th>login</th>\n",
       "      <th>full_name</th>\n",
       "      <th>created_at</th>\n",
       "      <th>stargazers_count</th>\n",
       "      <th>watchers_count</th>\n",
       "      <th>language</th>\n",
       "      <th>has_projects</th>\n",
       "      <th>has_wiki</th>\n",
       "      <th>license_name</th>\n",
       "    </tr>\n",
       "  </thead>\n",
       "  <tbody>\n",
       "    <tr>\n",
       "      <th>0</th>\n",
       "      <td>orta</td>\n",
       "      <td>orta/11ty-twoslash-test</td>\n",
       "      <td>2020-08-23T10:48:14Z</td>\n",
       "      <td>1</td>\n",
       "      <td>1</td>\n",
       "      <td>HTML</td>\n",
       "      <td>True</td>\n",
       "      <td>True</td>\n",
       "      <td>NaN</td>\n",
       "    </tr>\n",
       "    <tr>\n",
       "      <th>1</th>\n",
       "      <td>orta</td>\n",
       "      <td>orta/31465</td>\n",
       "      <td>2020-03-24T21:00:15Z</td>\n",
       "      <td>2</td>\n",
       "      <td>2</td>\n",
       "      <td>TypeScript</td>\n",
       "      <td>True</td>\n",
       "      <td>True</td>\n",
       "      <td>NaN</td>\n",
       "    </tr>\n",
       "    <tr>\n",
       "      <th>2</th>\n",
       "      <td>orta</td>\n",
       "      <td>orta/31859</td>\n",
       "      <td>2020-07-14T19:02:11Z</td>\n",
       "      <td>0</td>\n",
       "      <td>0</td>\n",
       "      <td>TypeScript</td>\n",
       "      <td>True</td>\n",
       "      <td>True</td>\n",
       "      <td>NaN</td>\n",
       "    </tr>\n",
       "    <tr>\n",
       "      <th>3</th>\n",
       "      <td>orta</td>\n",
       "      <td>orta/a</td>\n",
       "      <td>2018-01-30T15:41:33Z</td>\n",
       "      <td>1</td>\n",
       "      <td>1</td>\n",
       "      <td>TypeScript</td>\n",
       "      <td>True</td>\n",
       "      <td>True</td>\n",
       "      <td>mit</td>\n",
       "    </tr>\n",
       "    <tr>\n",
       "      <th>4</th>\n",
       "      <td>orta</td>\n",
       "      <td>orta/ABetterPlaceForTweetbot</td>\n",
       "      <td>2021-12-13T05:37:20Z</td>\n",
       "      <td>0</td>\n",
       "      <td>0</td>\n",
       "      <td>NaN</td>\n",
       "      <td>True</td>\n",
       "      <td>True</td>\n",
       "      <td>mit</td>\n",
       "    </tr>\n",
       "  </tbody>\n",
       "</table>\n",
       "</div>"
      ],
      "text/plain": [
       "  login                     full_name            created_at  stargazers_count  \\\n",
       "0  orta       orta/11ty-twoslash-test  2020-08-23T10:48:14Z                 1   \n",
       "1  orta                    orta/31465  2020-03-24T21:00:15Z                 2   \n",
       "2  orta                    orta/31859  2020-07-14T19:02:11Z                 0   \n",
       "3  orta                        orta/a  2018-01-30T15:41:33Z                 1   \n",
       "4  orta  orta/ABetterPlaceForTweetbot  2021-12-13T05:37:20Z                 0   \n",
       "\n",
       "   watchers_count    language  has_projects  has_wiki license_name  \n",
       "0               1        HTML          True      True          NaN  \n",
       "1               2  TypeScript          True      True          NaN  \n",
       "2               0  TypeScript          True      True          NaN  \n",
       "3               1  TypeScript          True      True          mit  \n",
       "4               0         NaN          True      True          mit  "
      ]
     },
     "execution_count": 6,
     "metadata": {},
     "output_type": "execute_result"
    }
   ],
   "source": [
    "repos = pd.read_csv('repositories.csv')\n",
    "repos.head()"
   ]
  },
  {
   "cell_type": "code",
   "execution_count": 7,
   "metadata": {},
   "outputs": [
    {
     "data": {
      "text/plain": [
       "mit           5780\n",
       "apache-2.0    2058\n",
       "other         1632\n",
       "Name: license_name, dtype: int64"
      ]
     },
     "execution_count": 7,
     "metadata": {},
     "output_type": "execute_result"
    }
   ],
   "source": [
    "repos['license_name'].value_counts().head(3)"
   ]
  },
  {
   "cell_type": "markdown",
   "metadata": {},
   "source": [
    "Q4. Which company do the majority of these developers work at?"
   ]
  },
  {
   "cell_type": "code",
   "execution_count": 8,
   "metadata": {},
   "outputs": [
    {
     "data": {
      "text/plain": [
       "AWS    18\n",
       "Name: company, dtype: int64"
      ]
     },
     "execution_count": 8,
     "metadata": {},
     "output_type": "execute_result"
    }
   ],
   "source": [
    "users['company'].value_counts().head(1)"
   ]
  },
  {
   "cell_type": "markdown",
   "metadata": {},
   "source": [
    "Q5. Which programming language is most popular among these users?"
   ]
  },
  {
   "cell_type": "code",
   "execution_count": 9,
   "metadata": {},
   "outputs": [
    {
     "data": {
      "text/plain": [
       "JavaScript    3519\n",
       "Name: language, dtype: int64"
      ]
     },
     "execution_count": 9,
     "metadata": {},
     "output_type": "execute_result"
    }
   ],
   "source": [
    "repos['language'].value_counts().head(1)"
   ]
  },
  {
   "cell_type": "markdown",
   "metadata": {},
   "source": [
    "Q6. Which programming language is the second most popular among users who joined after 2020?"
   ]
  },
  {
   "cell_type": "code",
   "execution_count": 10,
   "metadata": {},
   "outputs": [
    {
     "data": {
      "text/html": [
       "<div>\n",
       "<style scoped>\n",
       "    .dataframe tbody tr th:only-of-type {\n",
       "        vertical-align: middle;\n",
       "    }\n",
       "\n",
       "    .dataframe tbody tr th {\n",
       "        vertical-align: top;\n",
       "    }\n",
       "\n",
       "    .dataframe thead th {\n",
       "        text-align: right;\n",
       "    }\n",
       "</style>\n",
       "<table border=\"1\" class=\"dataframe\">\n",
       "  <thead>\n",
       "    <tr style=\"text-align: right;\">\n",
       "      <th></th>\n",
       "      <th>login</th>\n",
       "      <th>name</th>\n",
       "      <th>company</th>\n",
       "      <th>location</th>\n",
       "      <th>email</th>\n",
       "      <th>hireable</th>\n",
       "      <th>bio</th>\n",
       "      <th>public_repos</th>\n",
       "      <th>followers</th>\n",
       "      <th>following</th>\n",
       "      <th>created_at</th>\n",
       "    </tr>\n",
       "  </thead>\n",
       "  <tbody>\n",
       "    <tr>\n",
       "      <th>27</th>\n",
       "      <td>hmikihth</td>\n",
       "      <td>Miklos Horvath</td>\n",
       "      <td>DRAKEN.EE</td>\n",
       "      <td>Dublin</td>\n",
       "      <td>NaN</td>\n",
       "      <td>False</td>\n",
       "      <td>Software developer (Python/Django, Linux), Dig...</td>\n",
       "      <td>234</td>\n",
       "      <td>424</td>\n",
       "      <td>755</td>\n",
       "      <td>2021-02-27 13:14:40+00:00</td>\n",
       "    </tr>\n",
       "    <tr>\n",
       "      <th>51</th>\n",
       "      <td>The-AI-Summer</td>\n",
       "      <td>AI Summer</td>\n",
       "      <td>NaN</td>\n",
       "      <td>Dublin, Paris and Athens</td>\n",
       "      <td>sergios@theaisummer.com</td>\n",
       "      <td>False</td>\n",
       "      <td>Learn Deep Learning and Artificial Intelligenc...</td>\n",
       "      <td>16</td>\n",
       "      <td>293</td>\n",
       "      <td>0</td>\n",
       "      <td>2020-04-11 17:55:10+00:00</td>\n",
       "    </tr>\n",
       "    <tr>\n",
       "      <th>88</th>\n",
       "      <td>NayeonKeum</td>\n",
       "      <td>Nayeon Ryann Keum</td>\n",
       "      <td>AWS</td>\n",
       "      <td>Dublin</td>\n",
       "      <td>rmaskdus0208@gmail.com</td>\n",
       "      <td>False</td>\n",
       "      <td>NaN</td>\n",
       "      <td>60</td>\n",
       "      <td>188</td>\n",
       "      <td>291</td>\n",
       "      <td>2020-07-30 05:58:00+00:00</td>\n",
       "    </tr>\n",
       "    <tr>\n",
       "      <th>117</th>\n",
       "      <td>SaM-92</td>\n",
       "      <td>Saeed Misaghian (SaM)</td>\n",
       "      <td>INDEPENDENT</td>\n",
       "      <td>Dublin, Ireland</td>\n",
       "      <td>NaN</td>\n",
       "      <td>False</td>\n",
       "      <td>Senior Product Developer in Digital Twins &amp; AI...</td>\n",
       "      <td>24</td>\n",
       "      <td>152</td>\n",
       "      <td>17</td>\n",
       "      <td>2021-02-04 13:12:34+00:00</td>\n",
       "    </tr>\n",
       "    <tr>\n",
       "      <th>162</th>\n",
       "      <td>victor-cody</td>\n",
       "      <td>Victor Ikechukwu</td>\n",
       "      <td>DORSET COLLEGE</td>\n",
       "      <td>Dublin, Ireland</td>\n",
       "      <td>vickyikechukwu13@gmail.com</td>\n",
       "      <td>True</td>\n",
       "      <td>SWE | Writes code 👨🏽‍💻 and Technical docs ✍🏽 |...</td>\n",
       "      <td>90</td>\n",
       "      <td>121</td>\n",
       "      <td>83</td>\n",
       "      <td>2020-08-15 01:26:14+00:00</td>\n",
       "    </tr>\n",
       "  </tbody>\n",
       "</table>\n",
       "</div>"
      ],
      "text/plain": [
       "             login                   name         company  \\\n",
       "27        hmikihth         Miklos Horvath       DRAKEN.EE   \n",
       "51   The-AI-Summer              AI Summer             NaN   \n",
       "88      NayeonKeum      Nayeon Ryann Keum             AWS   \n",
       "117         SaM-92  Saeed Misaghian (SaM)     INDEPENDENT   \n",
       "162    victor-cody       Victor Ikechukwu  DORSET COLLEGE   \n",
       "\n",
       "                     location                       email  hireable  \\\n",
       "27                     Dublin                         NaN     False   \n",
       "51   Dublin, Paris and Athens     sergios@theaisummer.com     False   \n",
       "88                     Dublin      rmaskdus0208@gmail.com     False   \n",
       "117           Dublin, Ireland                         NaN     False   \n",
       "162           Dublin, Ireland  vickyikechukwu13@gmail.com      True   \n",
       "\n",
       "                                                   bio  public_repos  \\\n",
       "27   Software developer (Python/Django, Linux), Dig...           234   \n",
       "51   Learn Deep Learning and Artificial Intelligenc...            16   \n",
       "88                                                 NaN            60   \n",
       "117  Senior Product Developer in Digital Twins & AI...            24   \n",
       "162  SWE | Writes code 👨🏽‍💻 and Technical docs ✍🏽 |...            90   \n",
       "\n",
       "     followers  following                created_at  \n",
       "27         424        755 2021-02-27 13:14:40+00:00  \n",
       "51         293          0 2020-04-11 17:55:10+00:00  \n",
       "88         188        291 2020-07-30 05:58:00+00:00  \n",
       "117        152         17 2021-02-04 13:12:34+00:00  \n",
       "162        121         83 2020-08-15 01:26:14+00:00  "
      ]
     },
     "execution_count": 10,
     "metadata": {},
     "output_type": "execute_result"
    }
   ],
   "source": [
    "users_after_2020 = users[users['created_at'] > '2020-01-01']\n",
    "users_after_2020.head()"
   ]
  },
  {
   "cell_type": "code",
   "execution_count": 11,
   "metadata": {},
   "outputs": [
    {
     "data": {
      "text/plain": [
       "Python              79\n",
       "TypeScript          52\n",
       "JavaScript          52\n",
       "Java                49\n",
       "Jupyter Notebook    43\n",
       "Name: language, dtype: int64"
      ]
     },
     "execution_count": 11,
     "metadata": {},
     "output_type": "execute_result"
    }
   ],
   "source": [
    "repos_2020 = repos[repos['login'].isin(users_after_2020['login'].tolist())]\n",
    "repos_2020['language'].value_counts().head()"
   ]
  },
  {
   "cell_type": "markdown",
   "metadata": {},
   "source": [
    "Q7. Which language has the highest average number of stars per repository?"
   ]
  },
  {
   "cell_type": "code",
   "execution_count": 12,
   "metadata": {},
   "outputs": [
    {
     "name": "stdout",
     "output_type": "stream",
     "text": [
      "MDX 4347.333333333333\n"
     ]
    }
   ],
   "source": [
    "avg_stars = repos.groupby('language')['stargazers_count'].mean()\n",
    "top_lang = avg_stars.idxmax()\n",
    "top_stars = avg_stars.max()\n",
    "print(top_lang, top_stars)"
   ]
  },
  {
   "cell_type": "markdown",
   "metadata": {},
   "source": [
    "Q8. Let's define leader_strength as followers / (1 + following). Who are the top 5 in terms of leader_strength? List their login in order, comma-separated."
   ]
  },
  {
   "cell_type": "code",
   "execution_count": 13,
   "metadata": {},
   "outputs": [
    {
     "name": "stdout",
     "output_type": "stream",
     "text": [
      "flaviohenriquealmeida,zalando,AnikSarker,wix,CardinalHealth\n"
     ]
    }
   ],
   "source": [
    "users['leader_strength'] = users['followers'] / (1 + users['following'])\n",
    "top5_lead = users.sort_values(by='leader_strength', ascending=False).head()\n",
    "print(','.join(top5_lead['login'].tolist()))"
   ]
  },
  {
   "cell_type": "markdown",
   "metadata": {},
   "source": [
    "Q9. What is the correlation between the number of followers and the number of public repositories among users in Basel?"
   ]
  },
  {
   "cell_type": "code",
   "execution_count": 14,
   "metadata": {},
   "outputs": [
    {
     "data": {
      "text/plain": [
       "0.5548390015133586"
      ]
     },
     "execution_count": 14,
     "metadata": {},
     "output_type": "execute_result"
    }
   ],
   "source": [
    "correlation = users['followers'].corr(users['public_repos'])\n",
    "correlation"
   ]
  },
  {
   "cell_type": "markdown",
   "metadata": {},
   "source": [
    "Q10. Does creating more repos help users get more followers? Using regression, estimate how many additional followers a user gets per additional public repository."
   ]
  },
  {
   "cell_type": "code",
   "execution_count": 15,
   "metadata": {},
   "outputs": [
    {
     "name": "stdout",
     "output_type": "stream",
     "text": [
      "2.825\n"
     ]
    }
   ],
   "source": [
    "import csv\n",
    "followers = []\n",
    "public_repos = []\n",
    "with open('users.csv', 'r', encoding='utf-8') as file:\n",
    "    reader = csv.DictReader(file)\n",
    "    for row in reader:\n",
    "        followers_count = int(row['followers'])\n",
    "        public_repos_count = int(row['public_repos'])\n",
    "        followers.append(followers_count)\n",
    "        public_repos.append(public_repos_count)\n",
    "if len(followers) > 1 and len(public_repos) > 1:\n",
    "    slope, intercept = np.polyfit(public_repos, followers, 1)\n",
    "    \n",
    "    print(f\"{slope:.3f}\")\n",
    "else:\n",
    "    print(\"Error\")\n"
   ]
  },
  {
   "cell_type": "markdown",
   "metadata": {},
   "source": [
    "Q11. Do people typically enable projects and wikis together? What is the correlation between a repo having projects enabled and having wiki enabled?"
   ]
  },
  {
   "cell_type": "code",
   "execution_count": 16,
   "metadata": {},
   "outputs": [
    {
     "name": "stdout",
     "output_type": "stream",
     "text": [
      "0.334\n"
     ]
    }
   ],
   "source": [
    "if repos['has_projects'].dtype == 'object':\n",
    "    repos['has_projects'] = repos['has_projects'].map({'true': True, 'false': False})\n",
    "if repos['has_wiki'].dtype == 'object':\n",
    "    repos['has_wiki'] = repos['has_wiki'].map({'true': True, 'false': False})\n",
    "    \n",
    "correlation = repos['has_projects'].corr(repos['has_wiki'])\n",
    "    \n",
    "print(round(correlation, 3))"
   ]
  },
  {
   "cell_type": "markdown",
   "metadata": {},
   "source": [
    "Q12. Do hireable users follow more people than those who are not hireable?"
   ]
  },
  {
   "cell_type": "code",
   "execution_count": 17,
   "metadata": {},
   "outputs": [
    {
     "data": {
      "text/plain": [
       "47.31827155894953"
      ]
     },
     "execution_count": 17,
     "metadata": {},
     "output_type": "execute_result"
    }
   ],
   "source": [
    " hireable_avg_following = users[users['hireable'] == True]['following'].mean()\n",
    "non_hireable_avg_following = users[users['hireable'] == False]['following'].mean()\n",
    "difference = hireable_avg_following - non_hireable_avg_following\n",
    "difference"
   ]
  },
  {
   "cell_type": "markdown",
   "metadata": {},
   "source": [
    "Q13. Some developers write long bios. Does that help them get more followers? What's the correlation of the length of their bio (in Unicode characters) with followers? (Ignore people without bios)"
   ]
  },
  {
   "cell_type": "code",
   "execution_count": 19,
   "metadata": {},
   "outputs": [
    {
     "name": "stdout",
     "output_type": "stream",
     "text": [
      "Collecting sklearn\n",
      "  Using cached sklearn-0.0.post12.tar.gz (2.6 kB)\n",
      "Note: you may need to restart the kernel to use updated packages.\n"
     ]
    },
    {
     "name": "stderr",
     "output_type": "stream",
     "text": [
      "    ERROR: Command errored out with exit status 1:\n",
      "     command: 'c:\\Users\\91965\\Desktop\\pynewsetup\\python.exe' -c 'import sys, setuptools, tokenize; sys.argv[0] = '\"'\"'C:\\\\Users\\\\91965\\\\AppData\\\\Local\\\\Temp\\\\pip-install-rf8g7zo8\\\\sklearn\\\\setup.py'\"'\"'; __file__='\"'\"'C:\\\\Users\\\\91965\\\\AppData\\\\Local\\\\Temp\\\\pip-install-rf8g7zo8\\\\sklearn\\\\setup.py'\"'\"';f=getattr(tokenize, '\"'\"'open'\"'\"', open)(__file__);code=f.read().replace('\"'\"'\\r\\n'\"'\"', '\"'\"'\\n'\"'\"');f.close();exec(compile(code, __file__, '\"'\"'exec'\"'\"'))' egg_info --egg-base 'C:\\Users\\91965\\AppData\\Local\\Temp\\pip-pip-egg-info-cutsvj7z'\n",
      "         cwd: C:\\Users\\91965\\AppData\\Local\\Temp\\pip-install-rf8g7zo8\\sklearn\\\n",
      "    Complete output (15 lines):\n",
      "    The 'sklearn' PyPI package is deprecated, use 'scikit-learn'\n",
      "    rather than 'sklearn' for pip commands.\n",
      "    \n",
      "    Here is how to fix this error in the main use cases:\n",
      "    - use 'pip install scikit-learn' rather than 'pip install sklearn'\n",
      "    - replace 'sklearn' by 'scikit-learn' in your pip requirements files\n",
      "      (requirements.txt, setup.py, setup.cfg, Pipfile, etc ...)\n",
      "    - if the 'sklearn' package is used by one of your dependencies,\n",
      "      it would be great if you take some time to track which package uses\n",
      "      'sklearn' instead of 'scikit-learn' and report it to their issue tracker\n",
      "    - as a last resort, set the environment variable\n",
      "      SKLEARN_ALLOW_DEPRECATED_SKLEARN_PACKAGE_INSTALL=True to avoid this error\n",
      "    \n",
      "    More information is available at\n",
      "    https://github.com/scikit-learn/sklearn-pypi-package\n",
      "    ----------------------------------------\n",
      "ERROR: Command errored out with exit status 1: python setup.py egg_info Check the logs for full command output.\n",
      "WARNING: You are using pip version 20.2.3; however, version 24.3.1 is available.\n",
      "You should consider upgrading via the 'c:\\Users\\91965\\Desktop\\pynewsetup\\python.exe -m pip install --upgrade pip' command.\n"
     ]
    }
   ],
   "source": [
    "pip install sklearn"
   ]
  },
  {
   "cell_type": "code",
   "execution_count": 20,
   "metadata": {},
   "outputs": [
    {
     "ename": "ModuleNotFoundError",
     "evalue": "No module named 'sklearn'",
     "output_type": "error",
     "traceback": [
      "\u001b[1;31m---------------------------------------------------------------------------\u001b[0m",
      "\u001b[1;31mModuleNotFoundError\u001b[0m                       Traceback (most recent call last)",
      "Cell \u001b[1;32mIn [20], line 1\u001b[0m\n\u001b[1;32m----> 1\u001b[0m \u001b[38;5;28;01mfrom\u001b[39;00m \u001b[38;5;21;01msklearn\u001b[39;00m\u001b[38;5;21;01m.\u001b[39;00m\u001b[38;5;21;01mlinear_model\u001b[39;00m \u001b[38;5;28;01mimport\u001b[39;00m LinearRegression\n\u001b[0;32m      2\u001b[0m users_with_bio \u001b[38;5;241m=\u001b[39m users[(users[\u001b[38;5;124m'\u001b[39m\u001b[38;5;124mbio\u001b[39m\u001b[38;5;124m'\u001b[39m]\u001b[38;5;241m.\u001b[39mnotna()) \u001b[38;5;241m&\u001b[39m (users[\u001b[38;5;124m'\u001b[39m\u001b[38;5;124mbio\u001b[39m\u001b[38;5;124m'\u001b[39m] \u001b[38;5;241m!=\u001b[39m \u001b[38;5;124m'\u001b[39m\u001b[38;5;124m'\u001b[39m)]\u001b[38;5;241m.\u001b[39mcopy()\n\u001b[0;32m      3\u001b[0m users_with_bio\u001b[38;5;241m.\u001b[39mloc[:, \u001b[38;5;124m'\u001b[39m\u001b[38;5;124mbio_len\u001b[39m\u001b[38;5;124m'\u001b[39m] \u001b[38;5;241m=\u001b[39m users_with_bio[\u001b[38;5;124m'\u001b[39m\u001b[38;5;124mbio\u001b[39m\u001b[38;5;124m'\u001b[39m]\u001b[38;5;241m.\u001b[39mstr\u001b[38;5;241m.\u001b[39mlen()\n",
      "\u001b[1;31mModuleNotFoundError\u001b[0m: No module named 'sklearn'"
     ]
    }
   ],
   "source": [
    "from sklearn.linear_model import LinearRegression\n",
    "users_with_bio = users[(users['bio'].notna()) & (users['bio'] != '')].copy()\n",
    "users_with_bio.loc[:, 'bio_len'] = users_with_bio['bio'].str.len()\n",
    "\n",
    "X = users_with_bio['bio_len'].values.reshape(-1,1)\n",
    "y = users_with_bio['followers']\n",
    "\n",
    "lr2 = LinearRegression()\n",
    "lr2.fit(X, y)\n",
    "lr2.coef_[0]"
   ]
  },
  {
   "cell_type": "markdown",
   "metadata": {},
   "source": [
    "Q14. Who created the most repositories on weekends (UTC)? List the top 5 users' login in order, comma-separated"
   ]
  },
  {
   "cell_type": "code",
   "execution_count": 21,
   "metadata": {},
   "outputs": [
    {
     "name": "stdout",
     "output_type": "stream",
     "text": [
      "joshuacassidy,skilbjo,kracekumar,butlerx,lmammino\n"
     ]
    }
   ],
   "source": [
    "import csv\n",
    "from collections import Counter\n",
    "from datetime import datetime\n",
    "\n",
    "weekend_repo_counts = Counter()\n",
    "\n",
    "with open('repositories.csv', 'r', encoding='utf-8') as file:\n",
    "    reader = csv.DictReader(file)\n",
    "    \n",
    "    for row in reader:\n",
    "        created_at = row.get('created_at', '')\n",
    "        if created_at:\n",
    "            created_date = datetime.fromisoformat(created_at[:-1])  \n",
    "            \n",
    "            if created_date.weekday() in [5, 6]:\n",
    "                user_login = row['login']\n",
    "                weekend_repo_counts[user_login] += 1  \n",
    "\n",
    "top_users = weekend_repo_counts.most_common(5)\n",
    "\n",
    "top_logins = [user[0] for user in top_users]\n",
    "\n",
    "print(','.join(top_logins))"
   ]
  },
  {
   "cell_type": "markdown",
   "metadata": {},
   "source": [
    "Q15. Do people who are hireable share their email addresses more often?"
   ]
  },
  {
   "cell_type": "code",
   "execution_count": 22,
   "metadata": {},
   "outputs": [
    {
     "data": {
      "text/plain": [
       "0.1095921028124418"
      ]
     },
     "execution_count": 22,
     "metadata": {},
     "output_type": "execute_result"
    }
   ],
   "source": [
    "fraction_hierable = users[users['hireable'] == True]['email'].notna().mean()\n",
    "fraction_non_hierable = users[users['hireable'] == False]['email'].notna().mean()\n",
    "diff = fraction_hierable - fraction_non_hierable\n",
    "diff"
   ]
  },
  {
   "cell_type": "markdown",
   "metadata": {},
   "source": [
    "Q16. Let's assume that the last word in a user's name is their surname (ignore missing names, trim and split by whitespace.) What's the most common surname? (If there's a tie, list them all, comma-separated, alphabetically)"
   ]
  },
  {
   "cell_type": "code",
   "execution_count": 23,
   "metadata": {},
   "outputs": [
    {
     "name": "stdout",
     "output_type": "stream",
     "text": [
      "Chen,Kenny,O'Sullivan,Quinn\n"
     ]
    }
   ],
   "source": [
    "new_users = users[users['name'].notna()].copy()\n",
    "new_users['surname'] = new_users['name'].str.split().str[-1].str.strip()\n",
    "surname_counts = new_users['surname'].value_counts()\n",
    "max_count = surname_counts.max()\n",
    "common_surnames = surname_counts[surname_counts == max_count].index.tolist()\n",
    "common_surnames.sort()\n",
    "print(','.join(common_surnames))"
   ]
  },
  {
   "cell_type": "code",
   "execution_count": null,
   "metadata": {},
   "outputs": [],
   "source": []
  }
 ],
 "metadata": {
  "kernelspec": {
   "display_name": "Python 3",
   "language": "python",
   "name": "python3"
  },
  "language_info": {
   "codemirror_mode": {
    "name": "ipython",
    "version": 3
   },
   "file_extension": ".py",
   "mimetype": "text/x-python",
   "name": "python",
   "nbconvert_exporter": "python",
   "pygments_lexer": "ipython3",
   "version": "3.9.0"
  }
 },
 "nbformat": 4,
 "nbformat_minor": 2
}
